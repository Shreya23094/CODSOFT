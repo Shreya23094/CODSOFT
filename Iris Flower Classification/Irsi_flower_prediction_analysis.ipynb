{
 "cells": [
  {
   "cell_type": "markdown",
   "id": "7cb42536-df07-4228-b512-56f86a75b9d2",
   "metadata": {},
   "source": [
    "### Importing Required Libraries"
   ]
  },
  {
   "cell_type": "code",
   "execution_count": null,
   "id": "06524a79-ea37-4fb5-9495-cf18317077d6",
   "metadata": {},
   "outputs": [],
   "source": [
    "import numpy as np\n",
    "import pandas as pd\n",
    "import matplotlib.pyplot as plt\n",
    "import seaborn as sns\n",
    "from sklearn.model_selection import train_test_split\n",
    "from sklearn.linear_model import LogisticRegression\n",
    "from sklearn.preprocessing import MinMaxScaler\n",
    "from sklearn.metrics import mean_squared_error, mean_absolute_error"
   ]
  },
  {
   "cell_type": "markdown",
   "id": "1888b0a6-a67f-4a6e-a8da-507187550bd9",
   "metadata": {},
   "source": [
    "### Loading Required Dataset"
   ]
  },
  {
   "cell_type": "code",
   "execution_count": null,
   "id": "76aeefe6-12ad-4275-9273-806876637809",
   "metadata": {},
   "outputs": [],
   "source": [
    "iris=pd.read_csv('IRIS.csv')"
   ]
  },
  {
   "cell_type": "markdown",
   "id": "ca734fc6-397d-4db1-8538-331de1d66fc7",
   "metadata": {},
   "source": [
    "### General Information "
   ]
  },
  {
   "cell_type": "code",
   "execution_count": null,
   "id": "72bdc922-5c51-4b49-9be3-b47ab97ecd58",
   "metadata": {},
   "outputs": [],
   "source": [
    "iris.shape"
   ]
  },
  {
   "cell_type": "code",
   "execution_count": null,
   "id": "edc6d840-3a2e-41b5-8310-15bae9c75d92",
   "metadata": {},
   "outputs": [],
   "source": [
    "iris.head()"
   ]
  },
  {
   "cell_type": "code",
   "execution_count": null,
   "id": "6be1b393-a92a-4e6f-9fe9-8829aeff2b9c",
   "metadata": {},
   "outputs": [],
   "source": [
    "iris.tail()"
   ]
  },
  {
   "cell_type": "code",
   "execution_count": null,
   "id": "d5dd1304-dbae-4fac-84aa-cd0e6981635c",
   "metadata": {},
   "outputs": [],
   "source": [
    "iris.info()"
   ]
  },
  {
   "cell_type": "code",
   "execution_count": null,
   "id": "b53f4c5a-45e9-4ed7-94b4-02d4214f67ad",
   "metadata": {},
   "outputs": [],
   "source": [
    "iris.isna().sum()"
   ]
  },
  {
   "cell_type": "code",
   "execution_count": null,
   "id": "3c49a625-6d54-4905-8514-a1a0c15afc10",
   "metadata": {},
   "outputs": [],
   "source": [
    "iris.duplicated().sum()"
   ]
  },
  {
   "cell_type": "code",
   "execution_count": null,
   "id": "d27cd724-b0ce-4f73-871b-6f293998f54b",
   "metadata": {},
   "outputs": [],
   "source": [
    "iris.drop_duplicates(inplace=True)\n",
    "iris.duplicated().sum()"
   ]
  },
  {
   "cell_type": "code",
   "execution_count": null,
   "id": "30db3a72-9f4d-4bc5-b531-f1311596f22f",
   "metadata": {},
   "outputs": [],
   "source": [
    "iris.groupby('species')['species'].count()"
   ]
  },
  {
   "cell_type": "code",
   "execution_count": null,
   "id": "ed9d45c9-4065-4044-8350-ba16d6611352",
   "metadata": {},
   "outputs": [],
   "source": [
    "iris.describe()"
   ]
  },
  {
   "cell_type": "markdown",
   "id": "2f275f05-f790-4916-b737-32232e784644",
   "metadata": {},
   "source": [
    "### Data Visualization\n",
    "Here, all the data is being visualized to analyse the data within the dataset more efficiently."
   ]
  },
  {
   "cell_type": "code",
   "execution_count": null,
   "id": "dec16cad-23b6-4f4f-9a55-079a21de21a4",
   "metadata": {},
   "outputs": [],
   "source": [
    "plt.figure(figsize=(5,3),dpi=100)\n",
    "sns.FacetGrid(iris,hue='species',height=4).map(plt.scatter,'sepal_length','sepal_width')\n",
    "sns.FacetGrid(iris,hue='species',height=4).map(plt.scatter,'petal_length','petal_width')\n",
    "sns.FacetGrid(iris,hue='species',height=4).map(plt.scatter,'petal_length','sepal_width')\n",
    "sns.FacetGrid(iris,hue='species',height=4).map(plt.scatter,'sepal_length','petal_width')\n",
    "plt.legend()\n",
    "plt.show()"
   ]
  },
  {
   "cell_type": "code",
   "execution_count": null,
   "id": "e6849eee-bbeb-4c03-841d-7e30acb11c82",
   "metadata": {},
   "outputs": [],
   "source": [
    "iris['sepal_length'].plot(kind='line',grid=True,marker='.')\n",
    "iris['sepal_width'].plot(kind='line',grid=True,marker='.')\n",
    "plt.title('Sepal_length vs Sepal_width')\n",
    "plt.legend()\n",
    "plt.show()"
   ]
  },
  {
   "cell_type": "markdown",
   "id": "6f8c6ac8-a114-47b6-9d54-06367a6331f5",
   "metadata": {},
   "source": [
    "##### Note: This represents that the Sepal width is much more greater than that of Sepal length"
   ]
  },
  {
   "cell_type": "code",
   "execution_count": null,
   "id": "e55d0efe-a959-47ab-9e1e-ec6a80f94e59",
   "metadata": {},
   "outputs": [],
   "source": [
    "iris['petal_length'].plot(kind='line',grid=True,marker='.')\n",
    "iris['petal_width'].plot(kind='line',grid=True,marker='.')\n",
    "plt.title('Petal_length vs Petal_width')\n",
    "plt.legend()\n",
    "plt.show()"
   ]
  },
  {
   "cell_type": "markdown",
   "id": "f04e6cea-621a-4e56-9d12-967e5d323b5e",
   "metadata": {},
   "source": [
    "##### Note: This represents that the Petal length is much more greater than that of Petal Width"
   ]
  },
  {
   "cell_type": "markdown",
   "id": "9e85c407-cbb4-4a3d-ab6b-35b77241240a",
   "metadata": {},
   "source": [
    "### Preparing the Data and Variables for Data Modelling\n",
    "Here, all the data that is required is getting created and being modified.\n",
    "\n",
    "Also, all the dependent and independent variables are being initialized."
   ]
  },
  {
   "cell_type": "code",
   "execution_count": null,
   "id": "51dd1602-49af-47cc-861c-b2580572835b",
   "metadata": {},
   "outputs": [],
   "source": [
    "iris['iris_flower']=iris['species']"
   ]
  },
  {
   "cell_type": "code",
   "execution_count": null,
   "id": "0905c185-f864-45e9-964c-71d002aa9a59",
   "metadata": {},
   "outputs": [],
   "source": [
    "iris['iris_flower']=iris['iris_flower'].apply(lambda x : x.replace('Iris-setosa','0'))\n",
    "iris['iris_flower']=iris['iris_flower'].apply(lambda x : x.replace('Iris-versicolor','1'))\n",
    "iris['iris_flower']=iris['iris_flower'].apply(lambda x : x.replace('Iris-virginica','2'))\n",
    "iris['iris_flower']=iris['iris_flower'].astype('int')"
   ]
  },
  {
   "cell_type": "code",
   "execution_count": null,
   "id": "b16d2ddf-5088-4ab4-ae26-74a8b0d1b403",
   "metadata": {},
   "outputs": [],
   "source": [
    "iris.sample(5)"
   ]
  },
  {
   "cell_type": "code",
   "execution_count": null,
   "id": "415b55f4-2093-404d-acec-2ccdc9deba3e",
   "metadata": {},
   "outputs": [],
   "source": [
    "X=iris[['sepal_length','sepal_width','petal_length','petal_width']]\n",
    "Y=iris['iris_flower']"
   ]
  },
  {
   "cell_type": "markdown",
   "id": "fde3ab50-c695-4481-9566-df1434ab0c42",
   "metadata": {},
   "source": [
    "### Data Modelling\n",
    "Here, Logistic Regression is being used to analyse the score between the actual and the predicted values based on dependent and independent variables."
   ]
  },
  {
   "cell_type": "code",
   "execution_count": null,
   "id": "160ac370-a877-4dd1-bda3-1ae1ba4a44da",
   "metadata": {},
   "outputs": [],
   "source": [
    "x_train,x_test,y_train,y_test=train_test_split(X,Y,test_size=0.2,random_state=42)"
   ]
  },
  {
   "cell_type": "code",
   "execution_count": null,
   "id": "09cf6c54-757c-4d7d-89f2-41984a3eac36",
   "metadata": {},
   "outputs": [],
   "source": [
    "lr=LogisticRegression()\n",
    "lr.fit(x_train,y_train)"
   ]
  },
  {
   "cell_type": "code",
   "execution_count": null,
   "id": "39d796e0-0769-40cc-8afc-7bbfc17b8da8",
   "metadata": {},
   "outputs": [],
   "source": [
    "lr_pred=lr.predict(x_test)"
   ]
  },
  {
   "cell_type": "code",
   "execution_count": null,
   "id": "4d77e364-a269-465d-849d-f05466a55446",
   "metadata": {},
   "outputs": [],
   "source": [
    "lr.score(x_test,y_test)"
   ]
  },
  {
   "cell_type": "code",
   "execution_count": null,
   "id": "0eec1a49-2325-485e-b78d-a8d1af12a160",
   "metadata": {},
   "outputs": [],
   "source": [
    "min_max=MinMaxScaler()"
   ]
  },
  {
   "cell_type": "code",
   "execution_count": null,
   "id": "d7a4bfcf-6e52-43a0-aa15-ff7885da7643",
   "metadata": {},
   "outputs": [],
   "source": [
    "x_train_minmax=min_max.fit_transform(x_train)\n",
    "x_test_minmax=min_max.fit_transform(x_test)"
   ]
  },
  {
   "cell_type": "code",
   "execution_count": null,
   "id": "62104de9-928e-4a49-8f3a-5c255064dd6f",
   "metadata": {},
   "outputs": [],
   "source": [
    "lr.fit(x_train_minmax,y_train)"
   ]
  },
  {
   "cell_type": "code",
   "execution_count": null,
   "id": "0a760aa3-1dc2-41c6-8031-d745fff99576",
   "metadata": {},
   "outputs": [],
   "source": [
    "lr_pred_2=lr.predict(x_test_minmax)"
   ]
  },
  {
   "cell_type": "code",
   "execution_count": null,
   "id": "4520f69e-0b76-4045-99d5-48f244aa191b",
   "metadata": {},
   "outputs": [],
   "source": [
    "lr.score(x_test_minmax,y_test)"
   ]
  },
  {
   "cell_type": "code",
   "execution_count": null,
   "id": "51a7fc33-86be-4659-b786-45fc0e64e759",
   "metadata": {},
   "outputs": [],
   "source": [
    "mse=mean_squared_error(y_test,lr_pred_2)\n",
    "print('Mean Squared Error of testing set:',mse)\n",
    "\n",
    "mae=mean_absolute_error(y_test,lr_pred_2)\n",
    "print('Mean Absolute Error of testing set:',mae)"
   ]
  }
 ],
 "metadata": {
  "kernelspec": {
   "display_name": "Python 3 (ipykernel)",
   "language": "python",
   "name": "python3"
  },
  "language_info": {
   "codemirror_mode": {
    "name": "ipython",
    "version": 3
   },
   "file_extension": ".py",
   "mimetype": "text/x-python",
   "name": "python",
   "nbconvert_exporter": "python",
   "pygments_lexer": "ipython3",
   "version": "3.10.9"
  }
 },
 "nbformat": 4,
 "nbformat_minor": 5
}
